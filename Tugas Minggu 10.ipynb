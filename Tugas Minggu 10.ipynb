{
 "cells": [
  {
   "cell_type": "markdown",
   "id": "0507d12b-59c8-415d-a87f-7016659e930c",
   "metadata": {},
   "source": [
    "#### AGHNA SHAVA AKYELA WAHJUDI\n",
    "#### NIM = 103102400028"
   ]
  },
  {
   "cell_type": "markdown",
   "id": "1871bfac-bfac-4676-bf08-727373af362f",
   "metadata": {},
   "source": [
    "##### SOAL 1"
   ]
  },
  {
   "cell_type": "code",
   "execution_count": 6,
   "id": "4965a458-71e7-4709-9fe7-58957392bb8a",
   "metadata": {},
   "outputs": [
    {
     "name": "stdout",
     "output_type": "stream",
     "text": [
      "total pengunjung selama seminggu :215\n",
      "rata-rata jumlah pengunjung perhari : 30.71\n",
      "hari dengan jumlah pengunjung terabnyan: sabtu dengan 50 pengunjung\n"
     ]
    }
   ],
   "source": [
    "pengunjung = {\"senin\": 20, \"selasa\":25, \"rabu\": 30, \"kamis\": 15, \"jumat\": 40, \"sabtu\": 50, \"minggu\": 35}\n",
    "total_pengunjung = 0\n",
    "\n",
    "for hari in pengunjung :\n",
    "    total_pengunjung += pengunjung[hari]\n",
    "\n",
    "rata_rata_pengunjung = total_pengunjung / len (pengunjung)\n",
    "\n",
    "hari_terbanyak = \"senin\"\n",
    "jumlah_terbanyak = pengunjung[\"senin\"]\n",
    "\n",
    "for hari in pengunjung :\n",
    "    if pengunjung [hari] > jumlah_terbanyak :\n",
    "        hari_terbanyak = hari\n",
    "        jumlah_terbanyak = pengunjung[hari]\n",
    "\n",
    "print(f\"total pengunjung selama seminggu :{total_pengunjung}\")\n",
    "print(f\"rata-rata jumlah pengunjung perhari : {rata_rata_pengunjung:.2f}\")\n",
    "print(f\"hari dengan jumlah pengunjung terabnyan: {hari_terbanyak} dengan {jumlah_terbanyak} pengunjung\")"
   ]
  },
  {
   "cell_type": "markdown",
   "id": "09d929e7-bd86-459a-84b4-4f3e983d85d8",
   "metadata": {},
   "source": [
    "##### SOAL 2"
   ]
  },
  {
   "cell_type": "code",
   "execution_count": 2,
   "id": "6119a4ca-d80d-4949-a258-0b5dc5edf627",
   "metadata": {},
   "outputs": [
    {
     "name": "stdout",
     "output_type": "stream",
     "text": [
      "volume air di tangki 1 : 450 liter\n",
      "volume air di tangki 2 : 950 liter\n",
      "volume air di tangki 3 : 600 liter\n",
      "volume air di tangki 4 : 1150 liter\n",
      "total volume air di semua tangki : 3150 liter\n"
     ]
    }
   ],
   "source": [
    "tangki_kapasitas = { 1: 500, 2: 1000, 3: 750, 4: 1200}\n",
    "tangki_terisi = { 1: 450, 2: 950, 3: 600, 4: 1150}\n",
    "\n",
    "total_volume = 0\n",
    "for i in range (1,5):\n",
    "    if tangki_terisi[i] <= tangki_kapasitas[i]:\n",
    "        total_volume += tangki_terisi[i]\n",
    "        print(f\"volume air di tangki {i} : {tangki_terisi[i]} liter\")\n",
    "    else:\n",
    "        print (f\"tangki{i} penuh, batas maksimum adalah {tangki_kapasitas[i]} liter\")\n",
    "\n",
    "print(f\"total volume air di semua tangki : {total_volume} liter\")"
   ]
  },
  {
   "cell_type": "code",
   "execution_count": null,
   "id": "fa0be24c-aeef-4757-af30-c8470cdbd020",
   "metadata": {},
   "outputs": [],
   "source": []
  }
 ],
 "metadata": {
  "kernelspec": {
   "display_name": "Python 3 (ipykernel)",
   "language": "python",
   "name": "python3"
  },
  "language_info": {
   "codemirror_mode": {
    "name": "ipython",
    "version": 3
   },
   "file_extension": ".py",
   "mimetype": "text/x-python",
   "name": "python",
   "nbconvert_exporter": "python",
   "pygments_lexer": "ipython3",
   "version": "3.12.7"
  }
 },
 "nbformat": 4,
 "nbformat_minor": 5
}
